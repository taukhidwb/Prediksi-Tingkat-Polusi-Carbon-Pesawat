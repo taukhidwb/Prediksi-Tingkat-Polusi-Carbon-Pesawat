{
  "nbformat": 4,
  "nbformat_minor": 0,
  "metadata": {
    "colab": {
      "provenance": [],
      "authorship_tag": "ABX9TyOQyiVG/lUnvFzyE46VijV4",
      "include_colab_link": true
    },
    "kernelspec": {
      "name": "python3",
      "display_name": "Python 3"
    },
    "language_info": {
      "name": "python"
    }
  },
  "cells": [
    {
      "cell_type": "markdown",
      "metadata": {
        "id": "view-in-github",
        "colab_type": "text"
      },
      "source": [
        "<a href=\"https://colab.research.google.com/github/taukhidwb/Prediksi-Tingkat-Polusi-Carbon-Pesawat/blob/main/Prediksi_Tingkat_Polusi_Carbon.ipynb\" target=\"_parent\"><img src=\"https://colab.research.google.com/assets/colab-badge.svg\" alt=\"Open In Colab\"/></a>"
      ]
    },
    {
      "cell_type": "markdown",
      "source": [
        "**Memperkirakan Tingkat Polusi Carbon**"
      ],
      "metadata": {
        "id": "K-wbmqlSsilO"
      }
    },
    {
      "cell_type": "markdown",
      "source": [
        "Tujuan pembuatan aplikasi ini adalah memperkirakan tingkat polusi carbon yang dihasilkan pesawat terbang."
      ],
      "metadata": {
        "id": "aW9nV3Zhssvb"
      }
    },
    {
      "cell_type": "markdown",
      "source": [
        "**Pembersihan Data**\n",
        "\n",
        "\n",
        "1.   Melakukan import Data\n",
        "2.   Memeriksa dan memenuhi kelengkapan Data"
      ],
      "metadata": {
        "id": "QkrEcXQ0s1kF"
      }
    },
    {
      "cell_type": "code",
      "execution_count": 98,
      "metadata": {
        "id": "Q8HFY5WosXo8"
      },
      "outputs": [],
      "source": [
        "# Melakukan import library yang diperlukan\n",
        "\n",
        "import pandas as pd\n",
        "import numpy as np\n",
        "import matplotlib as mpl\n",
        "import matplotlib.pyplot as plt\n",
        "from sklearn.model_selection import train_test_split\n",
        "from sklearn.linear_model import LinearRegression\n",
        "from sklearn.metrics import r2_score,mean_squared_error"
      ]
    },
    {
      "cell_type": "code",
      "source": [
        "# Melakukan import data (file \"Scored_ABQ.csv\") dan menampilkan datanya\n",
        "\n",
        "df_polusi_carbon = pd.read_csv(\"Scored_BOS.csv\")\n",
        "\n",
        "df_polusi_carbon.head(21)"
      ],
      "metadata": {
        "colab": {
          "base_uri": "https://localhost:8080/",
          "height": 1000
        },
        "id": "7vRE4M8SvGRv",
        "outputId": "7384d3ee-3af1-41a2-dab1-9bd370fd96ab"
      },
      "execution_count": 134,
      "outputs": [
        {
          "output_type": "execute_result",
          "data": {
            "text/plain": [
              "    index airport                                            Carrier Duration  \\\n",
              "0       0     SMF                              JetBlue Basic Economy   5h 27m   \n",
              "1       1     SMF                                Delta Basic Economy    7h 7m   \n",
              "2       2     SMF                               United Basic Economy    7h 8m   \n",
              "3       3     SMF                               United Basic Economy   7h 14m   \n",
              "4       4     SMF                                Delta Basic Economy   7h 26m   \n",
              "5       5     SMF                               United Basic Economy   7h 27m   \n",
              "6       6     SMF                             American Basic Economy   7h 28m   \n",
              "7       7     SMF                 Sun Country Airlines Basic Economy   7h 40m   \n",
              "8       8     SMF                             American Basic Economy   7h 47m   \n",
              "9       9     SMF                             American Basic Economy   7h 52m   \n",
              "10     10     SMF  United Basic Economy   Operated by Skywest DBA...   7h 53m   \n",
              "11     11     SMF                             American Basic Economy    8h 1m   \n",
              "12     12     SMF                               United Basic Economy    8h 2m   \n",
              "13     13     SMF                                Delta Basic Economy    8h 8m   \n",
              "14     14     SMF                                Delta Basic Economy   8h 14m   \n",
              "15     15     SMF                               United Basic Economy   8h 17m   \n",
              "16     16     SMF                             American Basic Economy   8h 20m   \n",
              "17     17     SMF  American Basic Economy   Operated by Compass A...   8h 23m   \n",
              "18     18     SMF                             American Basic Economy   8h 27m   \n",
              "19     19     SMF                               Alaska Basic Economy   8h 35m   \n",
              "20     20     SMF  American Basic Economy   Operated by Compass A...   8h 35m   \n",
              "\n",
              "   price layover  minutes  legs          plane1       plane2  aircraft_ID_1  \\\n",
              "0   $492     NaN      327     1     Airbus A320          NaN             41   \n",
              "1   $761     SLC      427     2      Boeing 737   Boeing 737             61   \n",
              "2   $679     ORD      428     2      Boeing 737   Boeing 757             61   \n",
              "3   $847     ORD      434     2      Boeing 737  Airbus A320             61   \n",
              "4   $761     SLC      446     2      Boeing 737   Boeing 767             61   \n",
              "5   $558     EWR      447     2     Airbus A319   Boeing 737             40   \n",
              "6   $719     PHX      448     2     Airbus A319   Boeing 737             40   \n",
              "7   $502     MSP      460     2      Boeing 737   Boeing 737             61   \n",
              "8   $771     PHX      467     2     Airbus A319  Airbus A321             40   \n",
              "9   $849     ORD      472     2      Boeing 737   Boeing 737            229   \n",
              "10  $648     DEN      473     2  Embraer RJ-175   Boeing 737            110   \n",
              "11  $719     PHX      481     2     Airbus A320   Boeing 737             41   \n",
              "12  $741     DEN      482     2      Boeing 737   Boeing 737             61   \n",
              "13  $761     ATL      488     2      Boeing 737   Boeing 757             61   \n",
              "14  $641     MSP      494     2      Boeing 737  Airbus A321             61   \n",
              "15  $558     EWR      497     2     Airbus A319   Boeing 737             40   \n",
              "16  $849     DFW      500     2     Airbus A321  Airbus A321             42   \n",
              "17  $784     LAX      503     2  Embraer RJ-175  Airbus A321            110   \n",
              "18  $849     DFW      507     2      Boeing 737   Boeing 737            229   \n",
              "19  $659     SEA      515     2      Boeing 737   Boeing 737             61   \n",
              "20  $764     LAX      515     2  Embraer RJ-175  Airbus A321            110   \n",
              "\n",
              "    aircraft_ID_2  Carbon Leg 1  Carbon Leg 2  Total Carbon  carbon utility  \\\n",
              "0             NaN       1669.74           NaN       1669.74       -5.397676   \n",
              "1            61.0        370.80       1441.55       1812.35      -10.675444   \n",
              "2            72.0       1217.25        618.52       1835.77       -9.641014   \n",
              "3            41.0       1217.25        548.18       1765.43      -11.731510   \n",
              "4            75.0        370.80       1644.73       2015.53      -10.937386   \n",
              "5            61.0       1794.39        121.34       1915.73       -8.173131   \n",
              "6           229.0        478.07       1098.13       1576.20       -9.825701   \n",
              "7            61.0       1034.42        768.82       1803.24       -7.301048   \n",
              "8            42.0        478.07       1424.44       1902.51      -10.921512   \n",
              "9           229.0        850.87        424.35       1275.22      -11.125491   \n",
              "10           61.0        835.64       1198.62       2034.26       -9.494431   \n",
              "11          229.0        418.94       1098.13       1517.07       -9.749470   \n",
              "12           61.0        625.01       1198.62       1823.63      -10.430322   \n",
              "13           72.0       1433.32        673.67       2106.99      -11.055298   \n",
              "14           42.0       1034.42        683.06       1717.48       -8.995151   \n",
              "15           61.0       1794.39        121.34       1915.73       -8.173131   \n",
              "16           42.0        864.07        942.28       1806.35      -11.810231   \n",
              "17           42.0        343.08       1663.28       2006.36      -11.224178   \n",
              "18          229.0        687.46        749.09       1436.55      -11.333480   \n",
              "19           61.0        422.20       1715.27       2137.47       -9.770305   \n",
              "20           42.0        343.08       1663.28       2006.36      -10.964514   \n",
              "\n",
              "    no-carbon utility  carbon prob  no-carbon prob  \n",
              "0           -1.771677     0.391166        0.291619  \n",
              "1           -6.065689     0.001996        0.003981  \n",
              "2           -5.210151     0.005617        0.009365  \n",
              "3           -6.962959     0.000694        0.001623  \n",
              "4           -6.065689     0.001536        0.003981  \n",
              "5           -3.947713     0.024378        0.033096  \n",
              "6           -5.627487     0.004670        0.006170  \n",
              "7           -3.363443     0.058309        0.059364  \n",
              "8           -6.170022     0.001561        0.003586  \n",
              "9           -6.983826     0.001273        0.001589  \n",
              "10          -4.886717     0.006504        0.012941  \n",
              "11          -5.627487     0.005040        0.006170  \n",
              "12          -5.857021     0.002551        0.004904  \n",
              "13          -6.065689     0.001365        0.003981  \n",
              "14          -4.813683     0.010715        0.013922  \n",
              "15          -3.947713     0.024378        0.033096  \n",
              "16          -6.983826     0.000642        0.001589  \n",
              "17          -6.305656     0.001153        0.003131  \n",
              "18          -6.983826     0.001034        0.001589  \n",
              "19          -5.001484     0.004936        0.011538  \n",
              "20          -6.096989     0.001495        0.003858  "
            ],
            "text/html": [
              "\n",
              "  <div id=\"df-b9fd2127-940a-4abf-a95a-c94608cb8cbb\">\n",
              "    <div class=\"colab-df-container\">\n",
              "      <div>\n",
              "<style scoped>\n",
              "    .dataframe tbody tr th:only-of-type {\n",
              "        vertical-align: middle;\n",
              "    }\n",
              "\n",
              "    .dataframe tbody tr th {\n",
              "        vertical-align: top;\n",
              "    }\n",
              "\n",
              "    .dataframe thead th {\n",
              "        text-align: right;\n",
              "    }\n",
              "</style>\n",
              "<table border=\"1\" class=\"dataframe\">\n",
              "  <thead>\n",
              "    <tr style=\"text-align: right;\">\n",
              "      <th></th>\n",
              "      <th>index</th>\n",
              "      <th>airport</th>\n",
              "      <th>Carrier</th>\n",
              "      <th>Duration</th>\n",
              "      <th>price</th>\n",
              "      <th>layover</th>\n",
              "      <th>minutes</th>\n",
              "      <th>legs</th>\n",
              "      <th>plane1</th>\n",
              "      <th>plane2</th>\n",
              "      <th>aircraft_ID_1</th>\n",
              "      <th>aircraft_ID_2</th>\n",
              "      <th>Carbon Leg 1</th>\n",
              "      <th>Carbon Leg 2</th>\n",
              "      <th>Total Carbon</th>\n",
              "      <th>carbon utility</th>\n",
              "      <th>no-carbon utility</th>\n",
              "      <th>carbon prob</th>\n",
              "      <th>no-carbon prob</th>\n",
              "    </tr>\n",
              "  </thead>\n",
              "  <tbody>\n",
              "    <tr>\n",
              "      <th>0</th>\n",
              "      <td>0</td>\n",
              "      <td>SMF</td>\n",
              "      <td>JetBlue Basic Economy</td>\n",
              "      <td>5h 27m</td>\n",
              "      <td>$492</td>\n",
              "      <td>NaN</td>\n",
              "      <td>327</td>\n",
              "      <td>1</td>\n",
              "      <td>Airbus A320</td>\n",
              "      <td>NaN</td>\n",
              "      <td>41</td>\n",
              "      <td>NaN</td>\n",
              "      <td>1669.74</td>\n",
              "      <td>NaN</td>\n",
              "      <td>1669.74</td>\n",
              "      <td>-5.397676</td>\n",
              "      <td>-1.771677</td>\n",
              "      <td>0.391166</td>\n",
              "      <td>0.291619</td>\n",
              "    </tr>\n",
              "    <tr>\n",
              "      <th>1</th>\n",
              "      <td>1</td>\n",
              "      <td>SMF</td>\n",
              "      <td>Delta Basic Economy</td>\n",
              "      <td>7h 7m</td>\n",
              "      <td>$761</td>\n",
              "      <td>SLC</td>\n",
              "      <td>427</td>\n",
              "      <td>2</td>\n",
              "      <td>Boeing 737</td>\n",
              "      <td>Boeing 737</td>\n",
              "      <td>61</td>\n",
              "      <td>61.0</td>\n",
              "      <td>370.80</td>\n",
              "      <td>1441.55</td>\n",
              "      <td>1812.35</td>\n",
              "      <td>-10.675444</td>\n",
              "      <td>-6.065689</td>\n",
              "      <td>0.001996</td>\n",
              "      <td>0.003981</td>\n",
              "    </tr>\n",
              "    <tr>\n",
              "      <th>2</th>\n",
              "      <td>2</td>\n",
              "      <td>SMF</td>\n",
              "      <td>United Basic Economy</td>\n",
              "      <td>7h 8m</td>\n",
              "      <td>$679</td>\n",
              "      <td>ORD</td>\n",
              "      <td>428</td>\n",
              "      <td>2</td>\n",
              "      <td>Boeing 737</td>\n",
              "      <td>Boeing 757</td>\n",
              "      <td>61</td>\n",
              "      <td>72.0</td>\n",
              "      <td>1217.25</td>\n",
              "      <td>618.52</td>\n",
              "      <td>1835.77</td>\n",
              "      <td>-9.641014</td>\n",
              "      <td>-5.210151</td>\n",
              "      <td>0.005617</td>\n",
              "      <td>0.009365</td>\n",
              "    </tr>\n",
              "    <tr>\n",
              "      <th>3</th>\n",
              "      <td>3</td>\n",
              "      <td>SMF</td>\n",
              "      <td>United Basic Economy</td>\n",
              "      <td>7h 14m</td>\n",
              "      <td>$847</td>\n",
              "      <td>ORD</td>\n",
              "      <td>434</td>\n",
              "      <td>2</td>\n",
              "      <td>Boeing 737</td>\n",
              "      <td>Airbus A320</td>\n",
              "      <td>61</td>\n",
              "      <td>41.0</td>\n",
              "      <td>1217.25</td>\n",
              "      <td>548.18</td>\n",
              "      <td>1765.43</td>\n",
              "      <td>-11.731510</td>\n",
              "      <td>-6.962959</td>\n",
              "      <td>0.000694</td>\n",
              "      <td>0.001623</td>\n",
              "    </tr>\n",
              "    <tr>\n",
              "      <th>4</th>\n",
              "      <td>4</td>\n",
              "      <td>SMF</td>\n",
              "      <td>Delta Basic Economy</td>\n",
              "      <td>7h 26m</td>\n",
              "      <td>$761</td>\n",
              "      <td>SLC</td>\n",
              "      <td>446</td>\n",
              "      <td>2</td>\n",
              "      <td>Boeing 737</td>\n",
              "      <td>Boeing 767</td>\n",
              "      <td>61</td>\n",
              "      <td>75.0</td>\n",
              "      <td>370.80</td>\n",
              "      <td>1644.73</td>\n",
              "      <td>2015.53</td>\n",
              "      <td>-10.937386</td>\n",
              "      <td>-6.065689</td>\n",
              "      <td>0.001536</td>\n",
              "      <td>0.003981</td>\n",
              "    </tr>\n",
              "    <tr>\n",
              "      <th>5</th>\n",
              "      <td>5</td>\n",
              "      <td>SMF</td>\n",
              "      <td>United Basic Economy</td>\n",
              "      <td>7h 27m</td>\n",
              "      <td>$558</td>\n",
              "      <td>EWR</td>\n",
              "      <td>447</td>\n",
              "      <td>2</td>\n",
              "      <td>Airbus A319</td>\n",
              "      <td>Boeing 737</td>\n",
              "      <td>40</td>\n",
              "      <td>61.0</td>\n",
              "      <td>1794.39</td>\n",
              "      <td>121.34</td>\n",
              "      <td>1915.73</td>\n",
              "      <td>-8.173131</td>\n",
              "      <td>-3.947713</td>\n",
              "      <td>0.024378</td>\n",
              "      <td>0.033096</td>\n",
              "    </tr>\n",
              "    <tr>\n",
              "      <th>6</th>\n",
              "      <td>6</td>\n",
              "      <td>SMF</td>\n",
              "      <td>American Basic Economy</td>\n",
              "      <td>7h 28m</td>\n",
              "      <td>$719</td>\n",
              "      <td>PHX</td>\n",
              "      <td>448</td>\n",
              "      <td>2</td>\n",
              "      <td>Airbus A319</td>\n",
              "      <td>Boeing 737</td>\n",
              "      <td>40</td>\n",
              "      <td>229.0</td>\n",
              "      <td>478.07</td>\n",
              "      <td>1098.13</td>\n",
              "      <td>1576.20</td>\n",
              "      <td>-9.825701</td>\n",
              "      <td>-5.627487</td>\n",
              "      <td>0.004670</td>\n",
              "      <td>0.006170</td>\n",
              "    </tr>\n",
              "    <tr>\n",
              "      <th>7</th>\n",
              "      <td>7</td>\n",
              "      <td>SMF</td>\n",
              "      <td>Sun Country Airlines Basic Economy</td>\n",
              "      <td>7h 40m</td>\n",
              "      <td>$502</td>\n",
              "      <td>MSP</td>\n",
              "      <td>460</td>\n",
              "      <td>2</td>\n",
              "      <td>Boeing 737</td>\n",
              "      <td>Boeing 737</td>\n",
              "      <td>61</td>\n",
              "      <td>61.0</td>\n",
              "      <td>1034.42</td>\n",
              "      <td>768.82</td>\n",
              "      <td>1803.24</td>\n",
              "      <td>-7.301048</td>\n",
              "      <td>-3.363443</td>\n",
              "      <td>0.058309</td>\n",
              "      <td>0.059364</td>\n",
              "    </tr>\n",
              "    <tr>\n",
              "      <th>8</th>\n",
              "      <td>8</td>\n",
              "      <td>SMF</td>\n",
              "      <td>American Basic Economy</td>\n",
              "      <td>7h 47m</td>\n",
              "      <td>$771</td>\n",
              "      <td>PHX</td>\n",
              "      <td>467</td>\n",
              "      <td>2</td>\n",
              "      <td>Airbus A319</td>\n",
              "      <td>Airbus A321</td>\n",
              "      <td>40</td>\n",
              "      <td>42.0</td>\n",
              "      <td>478.07</td>\n",
              "      <td>1424.44</td>\n",
              "      <td>1902.51</td>\n",
              "      <td>-10.921512</td>\n",
              "      <td>-6.170022</td>\n",
              "      <td>0.001561</td>\n",
              "      <td>0.003586</td>\n",
              "    </tr>\n",
              "    <tr>\n",
              "      <th>9</th>\n",
              "      <td>9</td>\n",
              "      <td>SMF</td>\n",
              "      <td>American Basic Economy</td>\n",
              "      <td>7h 52m</td>\n",
              "      <td>$849</td>\n",
              "      <td>ORD</td>\n",
              "      <td>472</td>\n",
              "      <td>2</td>\n",
              "      <td>Boeing 737</td>\n",
              "      <td>Boeing 737</td>\n",
              "      <td>229</td>\n",
              "      <td>229.0</td>\n",
              "      <td>850.87</td>\n",
              "      <td>424.35</td>\n",
              "      <td>1275.22</td>\n",
              "      <td>-11.125491</td>\n",
              "      <td>-6.983826</td>\n",
              "      <td>0.001273</td>\n",
              "      <td>0.001589</td>\n",
              "    </tr>\n",
              "    <tr>\n",
              "      <th>10</th>\n",
              "      <td>10</td>\n",
              "      <td>SMF</td>\n",
              "      <td>United Basic Economy   Operated by Skywest DBA...</td>\n",
              "      <td>7h 53m</td>\n",
              "      <td>$648</td>\n",
              "      <td>DEN</td>\n",
              "      <td>473</td>\n",
              "      <td>2</td>\n",
              "      <td>Embraer RJ-175</td>\n",
              "      <td>Boeing 737</td>\n",
              "      <td>110</td>\n",
              "      <td>61.0</td>\n",
              "      <td>835.64</td>\n",
              "      <td>1198.62</td>\n",
              "      <td>2034.26</td>\n",
              "      <td>-9.494431</td>\n",
              "      <td>-4.886717</td>\n",
              "      <td>0.006504</td>\n",
              "      <td>0.012941</td>\n",
              "    </tr>\n",
              "    <tr>\n",
              "      <th>11</th>\n",
              "      <td>11</td>\n",
              "      <td>SMF</td>\n",
              "      <td>American Basic Economy</td>\n",
              "      <td>8h 1m</td>\n",
              "      <td>$719</td>\n",
              "      <td>PHX</td>\n",
              "      <td>481</td>\n",
              "      <td>2</td>\n",
              "      <td>Airbus A320</td>\n",
              "      <td>Boeing 737</td>\n",
              "      <td>41</td>\n",
              "      <td>229.0</td>\n",
              "      <td>418.94</td>\n",
              "      <td>1098.13</td>\n",
              "      <td>1517.07</td>\n",
              "      <td>-9.749470</td>\n",
              "      <td>-5.627487</td>\n",
              "      <td>0.005040</td>\n",
              "      <td>0.006170</td>\n",
              "    </tr>\n",
              "    <tr>\n",
              "      <th>12</th>\n",
              "      <td>12</td>\n",
              "      <td>SMF</td>\n",
              "      <td>United Basic Economy</td>\n",
              "      <td>8h 2m</td>\n",
              "      <td>$741</td>\n",
              "      <td>DEN</td>\n",
              "      <td>482</td>\n",
              "      <td>2</td>\n",
              "      <td>Boeing 737</td>\n",
              "      <td>Boeing 737</td>\n",
              "      <td>61</td>\n",
              "      <td>61.0</td>\n",
              "      <td>625.01</td>\n",
              "      <td>1198.62</td>\n",
              "      <td>1823.63</td>\n",
              "      <td>-10.430322</td>\n",
              "      <td>-5.857021</td>\n",
              "      <td>0.002551</td>\n",
              "      <td>0.004904</td>\n",
              "    </tr>\n",
              "    <tr>\n",
              "      <th>13</th>\n",
              "      <td>13</td>\n",
              "      <td>SMF</td>\n",
              "      <td>Delta Basic Economy</td>\n",
              "      <td>8h 8m</td>\n",
              "      <td>$761</td>\n",
              "      <td>ATL</td>\n",
              "      <td>488</td>\n",
              "      <td>2</td>\n",
              "      <td>Boeing 737</td>\n",
              "      <td>Boeing 757</td>\n",
              "      <td>61</td>\n",
              "      <td>72.0</td>\n",
              "      <td>1433.32</td>\n",
              "      <td>673.67</td>\n",
              "      <td>2106.99</td>\n",
              "      <td>-11.055298</td>\n",
              "      <td>-6.065689</td>\n",
              "      <td>0.001365</td>\n",
              "      <td>0.003981</td>\n",
              "    </tr>\n",
              "    <tr>\n",
              "      <th>14</th>\n",
              "      <td>14</td>\n",
              "      <td>SMF</td>\n",
              "      <td>Delta Basic Economy</td>\n",
              "      <td>8h 14m</td>\n",
              "      <td>$641</td>\n",
              "      <td>MSP</td>\n",
              "      <td>494</td>\n",
              "      <td>2</td>\n",
              "      <td>Boeing 737</td>\n",
              "      <td>Airbus A321</td>\n",
              "      <td>61</td>\n",
              "      <td>42.0</td>\n",
              "      <td>1034.42</td>\n",
              "      <td>683.06</td>\n",
              "      <td>1717.48</td>\n",
              "      <td>-8.995151</td>\n",
              "      <td>-4.813683</td>\n",
              "      <td>0.010715</td>\n",
              "      <td>0.013922</td>\n",
              "    </tr>\n",
              "    <tr>\n",
              "      <th>15</th>\n",
              "      <td>15</td>\n",
              "      <td>SMF</td>\n",
              "      <td>United Basic Economy</td>\n",
              "      <td>8h 17m</td>\n",
              "      <td>$558</td>\n",
              "      <td>EWR</td>\n",
              "      <td>497</td>\n",
              "      <td>2</td>\n",
              "      <td>Airbus A319</td>\n",
              "      <td>Boeing 737</td>\n",
              "      <td>40</td>\n",
              "      <td>61.0</td>\n",
              "      <td>1794.39</td>\n",
              "      <td>121.34</td>\n",
              "      <td>1915.73</td>\n",
              "      <td>-8.173131</td>\n",
              "      <td>-3.947713</td>\n",
              "      <td>0.024378</td>\n",
              "      <td>0.033096</td>\n",
              "    </tr>\n",
              "    <tr>\n",
              "      <th>16</th>\n",
              "      <td>16</td>\n",
              "      <td>SMF</td>\n",
              "      <td>American Basic Economy</td>\n",
              "      <td>8h 20m</td>\n",
              "      <td>$849</td>\n",
              "      <td>DFW</td>\n",
              "      <td>500</td>\n",
              "      <td>2</td>\n",
              "      <td>Airbus A321</td>\n",
              "      <td>Airbus A321</td>\n",
              "      <td>42</td>\n",
              "      <td>42.0</td>\n",
              "      <td>864.07</td>\n",
              "      <td>942.28</td>\n",
              "      <td>1806.35</td>\n",
              "      <td>-11.810231</td>\n",
              "      <td>-6.983826</td>\n",
              "      <td>0.000642</td>\n",
              "      <td>0.001589</td>\n",
              "    </tr>\n",
              "    <tr>\n",
              "      <th>17</th>\n",
              "      <td>17</td>\n",
              "      <td>SMF</td>\n",
              "      <td>American Basic Economy   Operated by Compass A...</td>\n",
              "      <td>8h 23m</td>\n",
              "      <td>$784</td>\n",
              "      <td>LAX</td>\n",
              "      <td>503</td>\n",
              "      <td>2</td>\n",
              "      <td>Embraer RJ-175</td>\n",
              "      <td>Airbus A321</td>\n",
              "      <td>110</td>\n",
              "      <td>42.0</td>\n",
              "      <td>343.08</td>\n",
              "      <td>1663.28</td>\n",
              "      <td>2006.36</td>\n",
              "      <td>-11.224178</td>\n",
              "      <td>-6.305656</td>\n",
              "      <td>0.001153</td>\n",
              "      <td>0.003131</td>\n",
              "    </tr>\n",
              "    <tr>\n",
              "      <th>18</th>\n",
              "      <td>18</td>\n",
              "      <td>SMF</td>\n",
              "      <td>American Basic Economy</td>\n",
              "      <td>8h 27m</td>\n",
              "      <td>$849</td>\n",
              "      <td>DFW</td>\n",
              "      <td>507</td>\n",
              "      <td>2</td>\n",
              "      <td>Boeing 737</td>\n",
              "      <td>Boeing 737</td>\n",
              "      <td>229</td>\n",
              "      <td>229.0</td>\n",
              "      <td>687.46</td>\n",
              "      <td>749.09</td>\n",
              "      <td>1436.55</td>\n",
              "      <td>-11.333480</td>\n",
              "      <td>-6.983826</td>\n",
              "      <td>0.001034</td>\n",
              "      <td>0.001589</td>\n",
              "    </tr>\n",
              "    <tr>\n",
              "      <th>19</th>\n",
              "      <td>19</td>\n",
              "      <td>SMF</td>\n",
              "      <td>Alaska Basic Economy</td>\n",
              "      <td>8h 35m</td>\n",
              "      <td>$659</td>\n",
              "      <td>SEA</td>\n",
              "      <td>515</td>\n",
              "      <td>2</td>\n",
              "      <td>Boeing 737</td>\n",
              "      <td>Boeing 737</td>\n",
              "      <td>61</td>\n",
              "      <td>61.0</td>\n",
              "      <td>422.20</td>\n",
              "      <td>1715.27</td>\n",
              "      <td>2137.47</td>\n",
              "      <td>-9.770305</td>\n",
              "      <td>-5.001484</td>\n",
              "      <td>0.004936</td>\n",
              "      <td>0.011538</td>\n",
              "    </tr>\n",
              "    <tr>\n",
              "      <th>20</th>\n",
              "      <td>20</td>\n",
              "      <td>SMF</td>\n",
              "      <td>American Basic Economy   Operated by Compass A...</td>\n",
              "      <td>8h 35m</td>\n",
              "      <td>$764</td>\n",
              "      <td>LAX</td>\n",
              "      <td>515</td>\n",
              "      <td>2</td>\n",
              "      <td>Embraer RJ-175</td>\n",
              "      <td>Airbus A321</td>\n",
              "      <td>110</td>\n",
              "      <td>42.0</td>\n",
              "      <td>343.08</td>\n",
              "      <td>1663.28</td>\n",
              "      <td>2006.36</td>\n",
              "      <td>-10.964514</td>\n",
              "      <td>-6.096989</td>\n",
              "      <td>0.001495</td>\n",
              "      <td>0.003858</td>\n",
              "    </tr>\n",
              "  </tbody>\n",
              "</table>\n",
              "</div>\n",
              "      <button class=\"colab-df-convert\" onclick=\"convertToInteractive('df-b9fd2127-940a-4abf-a95a-c94608cb8cbb')\"\n",
              "              title=\"Convert this dataframe to an interactive table.\"\n",
              "              style=\"display:none;\">\n",
              "        \n",
              "  <svg xmlns=\"http://www.w3.org/2000/svg\" height=\"24px\"viewBox=\"0 0 24 24\"\n",
              "       width=\"24px\">\n",
              "    <path d=\"M0 0h24v24H0V0z\" fill=\"none\"/>\n",
              "    <path d=\"M18.56 5.44l.94 2.06.94-2.06 2.06-.94-2.06-.94-.94-2.06-.94 2.06-2.06.94zm-11 1L8.5 8.5l.94-2.06 2.06-.94-2.06-.94L8.5 2.5l-.94 2.06-2.06.94zm10 10l.94 2.06.94-2.06 2.06-.94-2.06-.94-.94-2.06-.94 2.06-2.06.94z\"/><path d=\"M17.41 7.96l-1.37-1.37c-.4-.4-.92-.59-1.43-.59-.52 0-1.04.2-1.43.59L10.3 9.45l-7.72 7.72c-.78.78-.78 2.05 0 2.83L4 21.41c.39.39.9.59 1.41.59.51 0 1.02-.2 1.41-.59l7.78-7.78 2.81-2.81c.8-.78.8-2.07 0-2.86zM5.41 20L4 18.59l7.72-7.72 1.47 1.35L5.41 20z\"/>\n",
              "  </svg>\n",
              "      </button>\n",
              "      \n",
              "  <style>\n",
              "    .colab-df-container {\n",
              "      display:flex;\n",
              "      flex-wrap:wrap;\n",
              "      gap: 12px;\n",
              "    }\n",
              "\n",
              "    .colab-df-convert {\n",
              "      background-color: #E8F0FE;\n",
              "      border: none;\n",
              "      border-radius: 50%;\n",
              "      cursor: pointer;\n",
              "      display: none;\n",
              "      fill: #1967D2;\n",
              "      height: 32px;\n",
              "      padding: 0 0 0 0;\n",
              "      width: 32px;\n",
              "    }\n",
              "\n",
              "    .colab-df-convert:hover {\n",
              "      background-color: #E2EBFA;\n",
              "      box-shadow: 0px 1px 2px rgba(60, 64, 67, 0.3), 0px 1px 3px 1px rgba(60, 64, 67, 0.15);\n",
              "      fill: #174EA6;\n",
              "    }\n",
              "\n",
              "    [theme=dark] .colab-df-convert {\n",
              "      background-color: #3B4455;\n",
              "      fill: #D2E3FC;\n",
              "    }\n",
              "\n",
              "    [theme=dark] .colab-df-convert:hover {\n",
              "      background-color: #434B5C;\n",
              "      box-shadow: 0px 1px 3px 1px rgba(0, 0, 0, 0.15);\n",
              "      filter: drop-shadow(0px 1px 2px rgba(0, 0, 0, 0.3));\n",
              "      fill: #FFFFFF;\n",
              "    }\n",
              "  </style>\n",
              "\n",
              "      <script>\n",
              "        const buttonEl =\n",
              "          document.querySelector('#df-b9fd2127-940a-4abf-a95a-c94608cb8cbb button.colab-df-convert');\n",
              "        buttonEl.style.display =\n",
              "          google.colab.kernel.accessAllowed ? 'block' : 'none';\n",
              "\n",
              "        async function convertToInteractive(key) {\n",
              "          const element = document.querySelector('#df-b9fd2127-940a-4abf-a95a-c94608cb8cbb');\n",
              "          const dataTable =\n",
              "            await google.colab.kernel.invokeFunction('convertToInteractive',\n",
              "                                                     [key], {});\n",
              "          if (!dataTable) return;\n",
              "\n",
              "          const docLinkHtml = 'Like what you see? Visit the ' +\n",
              "            '<a target=\"_blank\" href=https://colab.research.google.com/notebooks/data_table.ipynb>data table notebook</a>'\n",
              "            + ' to learn more about interactive tables.';\n",
              "          element.innerHTML = '';\n",
              "          dataTable['output_type'] = 'display_data';\n",
              "          await google.colab.output.renderOutput(dataTable, element);\n",
              "          const docLink = document.createElement('div');\n",
              "          docLink.innerHTML = docLinkHtml;\n",
              "          element.appendChild(docLink);\n",
              "        }\n",
              "      </script>\n",
              "    </div>\n",
              "  </div>\n",
              "  "
            ]
          },
          "metadata": {},
          "execution_count": 134
        }
      ]
    },
    {
      "cell_type": "code",
      "source": [
        "# Memeriksa kolom (unsur) yang mengandung missing value (NaN)\n",
        "\n",
        "df_polusi_carbon.isnull().sum()"
      ],
      "metadata": {
        "colab": {
          "base_uri": "https://localhost:8080/"
        },
        "id": "-H7nZpTewOy1",
        "outputId": "914243a1-1fcf-4974-d17d-338a38aad1a3"
      },
      "execution_count": 135,
      "outputs": [
        {
          "output_type": "execute_result",
          "data": {
            "text/plain": [
              "index                 0\n",
              "airport               0\n",
              "Carrier               0\n",
              "Duration              0\n",
              "price                 0\n",
              "layover              16\n",
              "minutes               0\n",
              "legs                  0\n",
              "plane1                0\n",
              "plane2               16\n",
              "aircraft_ID_1         0\n",
              "aircraft_ID_2        16\n",
              "Carbon Leg 1          0\n",
              "Carbon Leg 2         16\n",
              "Total Carbon          0\n",
              "carbon utility        0\n",
              "no-carbon utility     0\n",
              "carbon prob           0\n",
              "no-carbon prob        0\n",
              "dtype: int64"
            ]
          },
          "metadata": {},
          "execution_count": 135
        }
      ]
    },
    {
      "cell_type": "code",
      "source": [
        "# Memilih kolom (unsur) data yang diinginkan\n",
        "\n",
        "kolom_terpilih = ['minutes', 'aircraft_ID_1', 'aircraft_ID_2', 'Total Carbon']\n",
        "data_terpilih = df_polusi_carbon[kolom_terpilih]\n",
        "\n",
        "# Menyimpan data terpilih ke dalam file baru (data_terpilih.csv)\n",
        "\n",
        "data_terpilih.to_csv('data_terpilih.csv', index=False)"
      ],
      "metadata": {
        "id": "9jk5W9Th-P7A"
      },
      "execution_count": 136,
      "outputs": []
    },
    {
      "cell_type": "code",
      "source": [
        "# Melakukan import data (file \"data_terpilih.csv\") dan menampilkan 20 data awal (pertama) dari keseluruhan baris data\n",
        "\n",
        "df_data_terpilih = pd.read_csv(\"data_terpilih.csv\")\n",
        "\n",
        "# df_data_terpilih\n",
        "\n",
        "df_data_terpilih.head(20)\n",
        "\n",
        "# Memeriksa kolom (unsur) yang mengandung missing value (NaN)\n",
        "\n",
        "df_data_terpilih.isnull().sum()"
      ],
      "metadata": {
        "colab": {
          "base_uri": "https://localhost:8080/"
        },
        "id": "clhhv0uu-7Qo",
        "outputId": "edb44cc8-9807-408c-eb95-7834f411582f"
      },
      "execution_count": 137,
      "outputs": [
        {
          "output_type": "execute_result",
          "data": {
            "text/plain": [
              "minutes           0\n",
              "aircraft_ID_1     0\n",
              "aircraft_ID_2    16\n",
              "Total Carbon      0\n",
              "dtype: int64"
            ]
          },
          "metadata": {},
          "execution_count": 137
        }
      ]
    },
    {
      "cell_type": "code",
      "source": [
        "# Ubah missing value pada setiap kolomnya dengan 0 (nol)\n",
        "\n",
        "df_polusi_carbon_baru = df_data_terpilih.replace(np.nan,0)\n",
        "df_polusi_carbon_baru.isnull().sum()"
      ],
      "metadata": {
        "colab": {
          "base_uri": "https://localhost:8080/"
        },
        "id": "J_76zoId91PJ",
        "outputId": "c4df7088-56ed-4b18-d110-71d2b627f7fd"
      },
      "execution_count": 138,
      "outputs": [
        {
          "output_type": "execute_result",
          "data": {
            "text/plain": [
              "minutes          0\n",
              "aircraft_ID_1    0\n",
              "aircraft_ID_2    0\n",
              "Total Carbon     0\n",
              "dtype: int64"
            ]
          },
          "metadata": {},
          "execution_count": 138
        }
      ]
    },
    {
      "cell_type": "code",
      "source": [
        "# Melihat type data setiap kolom\n",
        "\n",
        "df_polusi_carbon_baru.dtypes"
      ],
      "metadata": {
        "colab": {
          "base_uri": "https://localhost:8080/"
        },
        "id": "NboUTY49vvLC",
        "outputId": "eaf8dde4-15ab-405e-ccc5-be213f020a08"
      },
      "execution_count": 139,
      "outputs": [
        {
          "output_type": "execute_result",
          "data": {
            "text/plain": [
              "minutes            int64\n",
              "aircraft_ID_1      int64\n",
              "aircraft_ID_2    float64\n",
              "Total Carbon     float64\n",
              "dtype: object"
            ]
          },
          "metadata": {},
          "execution_count": 139
        }
      ]
    },
    {
      "cell_type": "code",
      "source": [
        "# Melakukan ploting data minutes vs Total Carbon pada scatter plot\n",
        "\n",
        "plt.scatter(df_polusi_carbon_baru['minutes'], df_polusi_carbon_baru['Total Carbon'])\n",
        "plt.xlabel(\"minutes\")\n",
        "plt.ylabel(\"Total Carbon\")\n",
        "plt.show()"
      ],
      "metadata": {
        "colab": {
          "base_uri": "https://localhost:8080/",
          "height": 449
        },
        "id": "MUkCFNwtJOqO",
        "outputId": "9b6df027-36b4-47d1-ed1f-5fddbd8d0734"
      },
      "execution_count": 140,
      "outputs": [
        {
          "output_type": "display_data",
          "data": {
            "text/plain": [
              "<Figure size 640x480 with 1 Axes>"
            ],
            "image/png": "[encoded data removed]"
          },
          "metadata": {}
        }
      ]
    },
    {
      "cell_type": "code",
      "source": [
        "# Melakukan ploting data aircraft_ID_1 vs Total Carbon pada scatter plot\n",
        "\n",
        "plt.scatter(df_polusi_carbon_baru['aircraft_ID_1'], df_polusi_carbon_baru['Total Carbon'])\n",
        "plt.xlabel(\"aircraft_ID_1\")\n",
        "plt.ylabel(\"Total Carbon\")\n",
        "plt.show()"
      ],
      "metadata": {
        "colab": {
          "base_uri": "https://localhost:8080/",
          "height": 450
        },
        "id": "W7fULEuVJrZv",
        "outputId": "0fee89c2-36bd-4a7e-983e-9e7e695d882d"
      },
      "execution_count": 141,
      "outputs": [
        {
          "output_type": "display_data",
          "data": {
            "text/plain": [
              "<Figure size 640x480 with 1 Axes>"
            ],
            "image/png": "[encoded data removed]"
          },
          "metadata": {}
        }
      ]
    },
    {
      "cell_type": "code",
      "source": [
        "# Melakukan ploting data aircraft_ID_2 vs Total Carbon pada scatter plot\n",
        "\n",
        "plt.scatter(df_polusi_carbon_baru['aircraft_ID_2'], df_polusi_carbon_baru['Total Carbon'])\n",
        "plt.xlabel(\"aircraft_ID_2\")\n",
        "plt.ylabel(\"Total Carbon\")\n",
        "plt.show()"
      ],
      "metadata": {
        "colab": {
          "base_uri": "https://localhost:8080/",
          "height": 450
        },
        "id": "vatUMCXmJyOe",
        "outputId": "6cd61357-dc2c-480a-e6a0-7f941c64e3fd"
      },
      "execution_count": 142,
      "outputs": [
        {
          "output_type": "display_data",
          "data": {
            "text/plain": [
              "<Figure size 640x480 with 1 Axes>"
            ],
            "image/png": "[encoded data removed]"
          },
          "metadata": {}
        }
      ]
    },
    {
      "cell_type": "markdown",
      "source": [
        "**Pengaplikasian Machine Learning**\n",
        "\n",
        "1.   Memisahkan variabel independen (x) dan variabel dependen (y)\n",
        "2.   Membagi dataset menjadi data latih (training set) dan data uji (test set)\n",
        "3.   Membagi dataset menjadi data latih (training set) dan data uji (test set)\n",
        "4.   Membuat objek model regresi linear\n",
        "5.   Melatih model dengan data latih\n",
        "6.   Memprediksi jumlah penduduk menggunakan data uji\n",
        "7.   Menghitung mean squared error (MSE) untuk mengevaluasi kinerja model\n",
        "8.   Menampilkan hasil prediksi dan evaluasi model"
      ],
      "metadata": {
        "id": "8OM87sRBtFxq"
      }
    },
    {
      "cell_type": "code",
      "source": [
        "# Extract the x and y values from the DataFrame\n",
        "\n",
        "x = df_polusi_carbon_baru[['minutes','aircraft_ID_1', 'aircraft_ID_2']]\n",
        "y = df_polusi_carbon_baru['Total Carbon']"
      ],
      "metadata": {
        "id": "bwfF7eJKw0D3"
      },
      "execution_count": 143,
      "outputs": []
    },
    {
      "cell_type": "code",
      "source": [
        "# Membagi dataset menjadi data latih (training set) dan data uji (test set)\n",
        "\n",
        "x_train, x_test, y_train, y_test = train_test_split(x, y, test_size=0.2, random_state=0)"
      ],
      "metadata": {
        "id": "7K47lskYGag1"
      },
      "execution_count": 144,
      "outputs": []
    },
    {
      "cell_type": "code",
      "source": [
        "# Membuat objek model regresi linear\n",
        "\n",
        "model = LinearRegression()"
      ],
      "metadata": {
        "id": "TGn2QBNGG8aE"
      },
      "execution_count": 145,
      "outputs": []
    },
    {
      "cell_type": "code",
      "source": [
        "# Melatih model dengan data latih\n",
        "\n",
        "model.fit(x_train, y_train)"
      ],
      "metadata": {
        "colab": {
          "base_uri": "https://localhost:8080/",
          "height": 75
        },
        "id": "hIq5OdxbHEiT",
        "outputId": "9ab88552-3bfb-4cd9-d64d-3fc060fdff7a"
      },
      "execution_count": 146,
      "outputs": [
        {
          "output_type": "execute_result",
          "data": {
            "text/plain": [
              "LinearRegression()"
            ],
            "text/html": [
              "<style>#sk-container-id-9 {color: black;background-color: white;}#sk-container-id-9 pre{padding: 0;}#sk-container-id-9 div.sk-toggleable {background-color: white;}#sk-container-id-9 label.sk-toggleable__label {cursor: pointer;display: block;width: 100%;margin-bottom: 0;padding: 0.3em;box-sizing: border-box;text-align: center;}#sk-container-id-9 label.sk-toggleable__label-arrow:before {content: \"▸\";float: left;margin-right: 0.25em;color: #696969;}#sk-container-id-9 label.sk-toggleable__label-arrow:hover:before {color: black;}#sk-container-id-9 div.sk-estimator:hover label.sk-toggleable__label-arrow:before {color: black;}#sk-container-id-9 div.sk-toggleable__content {max-height: 0;max-width: 0;overflow: hidden;text-align: left;background-color: #f0f8ff;}#sk-container-id-9 div.sk-toggleable__content pre {margin: 0.2em;color: black;border-radius: 0.25em;background-color: #f0f8ff;}#sk-container-id-9 input.sk-toggleable__control:checked~div.sk-toggleable__content {max-height: 200px;max-width: 100%;overflow: auto;}#sk-container-id-9 input.sk-toggleable__control:checked~label.sk-toggleable__label-arrow:before {content: \"▾\";}#sk-container-id-9 div.sk-estimator input.sk-toggleable__control:checked~label.sk-toggleable__label {background-color: #d4ebff;}#sk-container-id-9 div.sk-label input.sk-toggleable__control:checked~label.sk-toggleable__label {background-color: #d4ebff;}#sk-container-id-9 input.sk-hidden--visually {border: 0;clip: rect(1px 1px 1px 1px);clip: rect(1px, 1px, 1px, 1px);height: 1px;margin: -1px;overflow: hidden;padding: 0;position: absolute;width: 1px;}#sk-container-id-9 div.sk-estimator {font-family: monospace;background-color: #f0f8ff;border: 1px dotted black;border-radius: 0.25em;box-sizing: border-box;margin-bottom: 0.5em;}#sk-container-id-9 div.sk-estimator:hover {background-color: #d4ebff;}#sk-container-id-9 div.sk-parallel-item::after {content: \"\";width: 100%;border-bottom: 1px solid gray;flex-grow: 1;}#sk-container-id-9 div.sk-label:hover label.sk-toggleable__label {background-color: #d4ebff;}#sk-container-id-9 div.sk-serial::before {content: \"\";position: absolute;border-left: 1px solid gray;box-sizing: border-box;top: 0;bottom: 0;left: 50%;z-index: 0;}#sk-container-id-9 div.sk-serial {display: flex;flex-direction: column;align-items: center;background-color: white;padding-right: 0.2em;padding-left: 0.2em;position: relative;}#sk-container-id-9 div.sk-item {position: relative;z-index: 1;}#sk-container-id-9 div.sk-parallel {display: flex;align-items: stretch;justify-content: center;background-color: white;position: relative;}#sk-container-id-9 div.sk-item::before, #sk-container-id-9 div.sk-parallel-item::before {content: \"\";position: absolute;border-left: 1px solid gray;box-sizing: border-box;top: 0;bottom: 0;left: 50%;z-index: -1;}#sk-container-id-9 div.sk-parallel-item {display: flex;flex-direction: column;z-index: 1;position: relative;background-color: white;}#sk-container-id-9 div.sk-parallel-item:first-child::after {align-self: flex-end;width: 50%;}#sk-container-id-9 div.sk-parallel-item:last-child::after {align-self: flex-start;width: 50%;}#sk-container-id-9 div.sk-parallel-item:only-child::after {width: 0;}#sk-container-id-9 div.sk-dashed-wrapped {border: 1px dashed gray;margin: 0 0.4em 0.5em 0.4em;box-sizing: border-box;padding-bottom: 0.4em;background-color: white;}#sk-container-id-9 div.sk-label label {font-family: monospace;font-weight: bold;display: inline-block;line-height: 1.2em;}#sk-container-id-9 div.sk-label-container {text-align: center;}#sk-container-id-9 div.sk-container {/* jupyter's `normalize.less` sets `[hidden] { display: none; }` but bootstrap.min.css set `[hidden] { display: none !important; }` so we also need the `!important` here to be able to override the default hidden behavior on the sphinx rendered scikit-learn.org. See: https://github.com/scikit-learn/scikit-learn/issues/21755 */display: inline-block !important;position: relative;}#sk-container-id-9 div.sk-text-repr-fallback {display: none;}</style><div id=\"sk-container-id-9\" class=\"sk-top-container\"><div class=\"sk-text-repr-fallback\"><pre>LinearRegression()</pre><b>In a Jupyter environment, please rerun this cell to show the HTML representation or trust the notebook. <br />On GitHub, the HTML representation is unable to render, please try loading this page with nbviewer.org.</b></div><div class=\"sk-container\" hidden><div class=\"sk-item\"><div class=\"sk-estimator sk-toggleable\"><input class=\"sk-toggleable__control sk-hidden--visually\" id=\"sk-estimator-id-9\" type=\"checkbox\" checked><label for=\"sk-estimator-id-9\" class=\"sk-toggleable__label sk-toggleable__label-arrow\">LinearRegression</label><div class=\"sk-toggleable__content\"><pre>LinearRegression()</pre></div></div></div></div></div>"
            ]
          },
          "metadata": {},
          "execution_count": 146
        }
      ]
    },
    {
      "cell_type": "code",
      "source": [
        "# Memprediksi\n",
        "\n",
        "y_pred = model.predict(x_test)"
      ],
      "metadata": {
        "id": "dHIONF7MHZFs"
      },
      "execution_count": 147,
      "outputs": []
    },
    {
      "cell_type": "code",
      "source": [
        "# Menghitung mean squared error (MSE) untuk mengevaluasi kinerja model\n",
        "\n",
        "mse = mean_squared_error(y_test, y_pred)"
      ],
      "metadata": {
        "id": "ULUS2d17H1J6"
      },
      "execution_count": 148,
      "outputs": []
    },
    {
      "cell_type": "code",
      "source": [
        "# Menampilkan hasil prediksi dan evaluasi model\n",
        "\n",
        "print('Hasil Prediksi:', y_pred)\n",
        "print('Mean Squared Error:', mse)"
      ],
      "metadata": {
        "colab": {
          "base_uri": "https://localhost:8080/"
        },
        "id": "g5ZZt6gjICEm",
        "outputId": "7d913e32-4561-465c-e76e-4c0f80004ffc"
      },
      "execution_count": 149,
      "outputs": [
        {
          "output_type": "stream",
          "name": "stdout",
          "text": [
            "Hasil Prediksi: [1930.25908081 1863.35609345 1801.91778471 1882.17936053 1958.95774608\n",
            " 1876.98207249 1930.2814088  2054.08667005 1757.93748799 1860.30373428\n",
            " 1583.67322663 2018.85610919 1866.65388601 1856.34765673 1851.33576639\n",
            " 1961.10267496 1943.70400613 1923.90892908 1997.45035054 1901.12836729\n",
            " 1870.63192075]\n",
            "Mean Squared Error: 25182.90156586323\n"
          ]
        }
      ]
    },
    {
      "cell_type": "code",
      "source": [
        "# Menghitung RMSE (Root Mean Square)\n",
        "\n",
        "akar = str(r2_score(y_pred, y_test))\n",
        "print(\"R2: \" + akar)"
      ],
      "metadata": {
        "colab": {
          "base_uri": "https://localhost:8080/"
        },
        "id": "PendTfD6WsOE",
        "outputId": "9053df96-b481-4716-a226-798950bbb6aa"
      },
      "execution_count": 150,
      "outputs": [
        {
          "output_type": "stream",
          "name": "stdout",
          "text": [
            "R2: -1.6886915220818608\n"
          ]
        }
      ]
    }
  ]
}