{
  "cells": [
    {
      "attachments": {},
      "cell_type": "markdown",
      "metadata": {
        "colab_type": "text",
        "id": "view-in-github"
      },
      "source": [
        "<a href=\"https://colab.research.google.com/github/taukhidwb/Prediksi-Tingkat-Polusi-Carbon-Pesawat/blob/main/Prediksi_Tingkat_Polusi_Carbon.ipynb\" target=\"_parent\"><img src=\"https://colab.research.google.com/assets/colab-badge.svg\" alt=\"Open In Colab\"/></a>"
      ]
    },
    {
      "attachments": {},
      "cell_type": "markdown",
      "metadata": {
        "id": "K-wbmqlSsilO"
      },
      "source": [
        "**Memperkirakan Tingkat Polusi Carbon**"
      ]
    },
    {
      "attachments": {},
      "cell_type": "markdown",
      "metadata": {
        "id": "aW9nV3Zhssvb"
      },
      "source": [
        "Tujuan pembuatan aplikasi ini adalah memperkirakan tingkat polusi carbon yang dihasilkan pesawat terbang. Data yang digunakan berasal dari dataset Popular Flight and Emmision Data."
      ]
    },
    {
      "attachments": {},
      "cell_type": "markdown",
      "metadata": {
        "id": "QkrEcXQ0s1kF"
      },
      "source": [
        "**Pembersihan Data**\n",
        "\n",
        "\n",
        "1.   Melakukan import Data\n",
        "2.   Memeriksa dan memenuhi kelengkapan Data"
      ]
    },
    {
      "cell_type": "code",
      "execution_count": 23,
      "metadata": {
        "id": "Q8HFY5WosXo8"
      },
      "outputs": [],
      "source": [
        "# Melakukan import library yang diperlukan\n",
        "\n",
        "import pandas as pd\n",
        "import numpy as np\n",
        "import matplotlib as mpl\n",
        "import matplotlib.pyplot as plt\n",
        "import math\n",
        "from sklearn.model_selection import train_test_split\n",
        "from sklearn.linear_model import LinearRegression\n",
        "from sklearn.metrics import r2_score,mean_squared_error"
      ]
    },
    {
      "cell_type": "code",
      "execution_count": 24,
      "metadata": {
        "colab": {
          "base_uri": "https://localhost:8080/",
          "height": 1000
        },
        "id": "7vRE4M8SvGRv",
        "outputId": "7384d3ee-3af1-41a2-dab1-9bd370fd96ab"
      },
      "outputs": [
        {
          "data": {
            "text/html": [
              "<div>\n",
              "<style scoped>\n",
              "    .dataframe tbody tr th:only-of-type {\n",
              "        vertical-align: middle;\n",
              "    }\n",
              "\n",
              "    .dataframe tbody tr th {\n",
              "        vertical-align: top;\n",
              "    }\n",
              "\n",
              "    .dataframe thead th {\n",
              "        text-align: right;\n",
              "    }\n",
              "</style>\n",
              "<table border=\"1\" class=\"dataframe\">\n",
              "  <thead>\n",
              "    <tr style=\"text-align: right;\">\n",
              "      <th></th>\n",
              "      <th>index</th>\n",
              "      <th>airport</th>\n",
              "      <th>Carrier</th>\n",
              "      <th>Duration</th>\n",
              "      <th>price</th>\n",
              "      <th>layover</th>\n",
              "      <th>minutes</th>\n",
              "      <th>legs</th>\n",
              "      <th>plane1</th>\n",
              "      <th>plane2</th>\n",
              "      <th>aircraft_ID_1</th>\n",
              "      <th>aircraft_ID_2</th>\n",
              "      <th>Carbon Leg 1</th>\n",
              "      <th>Carbon Leg 2</th>\n",
              "      <th>Total Carbon</th>\n",
              "      <th>carbon utility</th>\n",
              "      <th>no-carbon utility</th>\n",
              "      <th>carbon prob</th>\n",
              "      <th>no-carbon prob</th>\n",
              "    </tr>\n",
              "  </thead>\n",
              "  <tbody>\n",
              "    <tr>\n",
              "      <th>0</th>\n",
              "      <td>0</td>\n",
              "      <td>SMF</td>\n",
              "      <td>Delta Basic Economy</td>\n",
              "      <td>6h 28m</td>\n",
              "      <td>$904</td>\n",
              "      <td>MSP</td>\n",
              "      <td>388</td>\n",
              "      <td>2</td>\n",
              "      <td>Boeing 737</td>\n",
              "      <td>Airbus A319</td>\n",
              "      <td>61</td>\n",
              "      <td>40.0</td>\n",
              "      <td>1034.42</td>\n",
              "      <td>670.11</td>\n",
              "      <td>1704.53</td>\n",
              "      <td>-12.393040</td>\n",
              "      <td>-7.557662</td>\n",
              "      <td>0.000504</td>\n",
              "      <td>0.001199</td>\n",
              "    </tr>\n",
              "    <tr>\n",
              "      <th>1</th>\n",
              "      <td>1</td>\n",
              "      <td>SMF</td>\n",
              "      <td>United Basic Economy</td>\n",
              "      <td>6h 42m</td>\n",
              "      <td>$518</td>\n",
              "      <td>ORD</td>\n",
              "      <td>402</td>\n",
              "      <td>2</td>\n",
              "      <td>Boeing 737</td>\n",
              "      <td>Airbus A319</td>\n",
              "      <td>61</td>\n",
              "      <td>40.0</td>\n",
              "      <td>1217.25</td>\n",
              "      <td>454.37</td>\n",
              "      <td>1671.62</td>\n",
              "      <td>-7.339093</td>\n",
              "      <td>-3.530377</td>\n",
              "      <td>0.079011</td>\n",
              "      <td>0.067256</td>\n",
              "    </tr>\n",
              "    <tr>\n",
              "      <th>2</th>\n",
              "      <td>2</td>\n",
              "      <td>SMF</td>\n",
              "      <td>Delta Basic Economy</td>\n",
              "      <td>6h 47m</td>\n",
              "      <td>$841</td>\n",
              "      <td>ATL</td>\n",
              "      <td>407</td>\n",
              "      <td>2</td>\n",
              "      <td>Boeing 737</td>\n",
              "      <td>Airbus A321</td>\n",
              "      <td>61</td>\n",
              "      <td>42.0</td>\n",
              "      <td>1433.32</td>\n",
              "      <td>350.14</td>\n",
              "      <td>1783.46</td>\n",
              "      <td>-11.676855</td>\n",
              "      <td>-6.900359</td>\n",
              "      <td>0.001032</td>\n",
              "      <td>0.002313</td>\n",
              "    </tr>\n",
              "    <tr>\n",
              "      <th>3</th>\n",
              "      <td>3</td>\n",
              "      <td>SMF</td>\n",
              "      <td>United Basic Economy</td>\n",
              "      <td>6h 51m</td>\n",
              "      <td>$683</td>\n",
              "      <td>ORD</td>\n",
              "      <td>411</td>\n",
              "      <td>2</td>\n",
              "      <td>Boeing 737</td>\n",
              "      <td>Airbus A319</td>\n",
              "      <td>61</td>\n",
              "      <td>40.0</td>\n",
              "      <td>1217.25</td>\n",
              "      <td>454.37</td>\n",
              "      <td>1671.62</td>\n",
              "      <td>-9.481323</td>\n",
              "      <td>-5.251885</td>\n",
              "      <td>0.009275</td>\n",
              "      <td>0.012025</td>\n",
              "    </tr>\n",
              "    <tr>\n",
              "      <th>4</th>\n",
              "      <td>4</td>\n",
              "      <td>SMF</td>\n",
              "      <td>Delta Basic Economy</td>\n",
              "      <td>6h 57m</td>\n",
              "      <td>$591</td>\n",
              "      <td>DTW</td>\n",
              "      <td>417</td>\n",
              "      <td>2</td>\n",
              "      <td>Boeing 737</td>\n",
              "      <td>Airbus A321</td>\n",
              "      <td>61</td>\n",
              "      <td>42.0</td>\n",
              "      <td>1378.34</td>\n",
              "      <td>264.40</td>\n",
              "      <td>1642.74</td>\n",
              "      <td>-8.249635</td>\n",
              "      <td>-4.292014</td>\n",
              "      <td>0.031786</td>\n",
              "      <td>0.031402</td>\n",
              "    </tr>\n",
              "    <tr>\n",
              "      <th>5</th>\n",
              "      <td>5</td>\n",
              "      <td>SMF</td>\n",
              "      <td>American Basic Economy</td>\n",
              "      <td>7h 3m</td>\n",
              "      <td>$648</td>\n",
              "      <td>DFW</td>\n",
              "      <td>423</td>\n",
              "      <td>2</td>\n",
              "      <td>Airbus A321</td>\n",
              "      <td>Boeing 737</td>\n",
              "      <td>42</td>\n",
              "      <td>229.0</td>\n",
              "      <td>864.07</td>\n",
              "      <td>577.28</td>\n",
              "      <td>1441.35</td>\n",
              "      <td>-8.730043</td>\n",
              "      <td>-4.886717</td>\n",
              "      <td>0.019661</td>\n",
              "      <td>0.017325</td>\n",
              "    </tr>\n",
              "    <tr>\n",
              "      <th>6</th>\n",
              "      <td>6</td>\n",
              "      <td>SMF</td>\n",
              "      <td>Delta Basic Economy</td>\n",
              "      <td>7h 3m</td>\n",
              "      <td>$841</td>\n",
              "      <td>ATL</td>\n",
              "      <td>423</td>\n",
              "      <td>2</td>\n",
              "      <td>Boeing 737</td>\n",
              "      <td>Airbus A321</td>\n",
              "      <td>61</td>\n",
              "      <td>42.0</td>\n",
              "      <td>1433.32</td>\n",
              "      <td>350.14</td>\n",
              "      <td>1783.46</td>\n",
              "      <td>-11.676855</td>\n",
              "      <td>-6.900359</td>\n",
              "      <td>0.001032</td>\n",
              "      <td>0.002313</td>\n",
              "    </tr>\n",
              "    <tr>\n",
              "      <th>7</th>\n",
              "      <td>7</td>\n",
              "      <td>SMF</td>\n",
              "      <td>United Basic Economy</td>\n",
              "      <td>7h 4m</td>\n",
              "      <td>$597</td>\n",
              "      <td>ORD</td>\n",
              "      <td>424</td>\n",
              "      <td>2</td>\n",
              "      <td>Airbus A319</td>\n",
              "      <td>Airbus A320</td>\n",
              "      <td>40</td>\n",
              "      <td>41.0</td>\n",
              "      <td>1250.95</td>\n",
              "      <td>398.36</td>\n",
              "      <td>1649.31</td>\n",
              "      <td>-8.336004</td>\n",
              "      <td>-4.354614</td>\n",
              "      <td>0.029156</td>\n",
              "      <td>0.029497</td>\n",
              "    </tr>\n",
              "    <tr>\n",
              "      <th>8</th>\n",
              "      <td>8</td>\n",
              "      <td>SMF</td>\n",
              "      <td>American Basic Economy</td>\n",
              "      <td>7h 10m</td>\n",
              "      <td>$790</td>\n",
              "      <td>DFW</td>\n",
              "      <td>430</td>\n",
              "      <td>2</td>\n",
              "      <td>Boeing 737</td>\n",
              "      <td>Boeing 737</td>\n",
              "      <td>229</td>\n",
              "      <td>229.0</td>\n",
              "      <td>687.46</td>\n",
              "      <td>577.28</td>\n",
              "      <td>1264.74</td>\n",
              "      <td>-10.345971</td>\n",
              "      <td>-6.368257</td>\n",
              "      <td>0.003907</td>\n",
              "      <td>0.003938</td>\n",
              "    </tr>\n",
              "    <tr>\n",
              "      <th>9</th>\n",
              "      <td>9</td>\n",
              "      <td>SMF</td>\n",
              "      <td>American Basic Economy</td>\n",
              "      <td>7h 29m</td>\n",
              "      <td>$763</td>\n",
              "      <td>DFW</td>\n",
              "      <td>449</td>\n",
              "      <td>2</td>\n",
              "      <td>Airbus A321</td>\n",
              "      <td>Airbus A321</td>\n",
              "      <td>42</td>\n",
              "      <td>42.0</td>\n",
              "      <td>864.07</td>\n",
              "      <td>723.87</td>\n",
              "      <td>1587.94</td>\n",
              "      <td>-10.412098</td>\n",
              "      <td>-6.086555</td>\n",
              "      <td>0.003657</td>\n",
              "      <td>0.005219</td>\n",
              "    </tr>\n",
              "    <tr>\n",
              "      <th>10</th>\n",
              "      <td>10</td>\n",
              "      <td>SMF</td>\n",
              "      <td>Delta Basic Economy</td>\n",
              "      <td>7h 30m</td>\n",
              "      <td>$648</td>\n",
              "      <td>MSP</td>\n",
              "      <td>450</td>\n",
              "      <td>2</td>\n",
              "      <td>Boeing 737</td>\n",
              "      <td>Airbus A320</td>\n",
              "      <td>61</td>\n",
              "      <td>41.0</td>\n",
              "      <td>1034.42</td>\n",
              "      <td>585.94</td>\n",
              "      <td>1620.36</td>\n",
              "      <td>-8.960825</td>\n",
              "      <td>-4.886717</td>\n",
              "      <td>0.015609</td>\n",
              "      <td>0.017325</td>\n",
              "    </tr>\n",
              "  </tbody>\n",
              "</table>\n",
              "</div>"
            ],
            "text/plain": [
              "    index airport                 Carrier Duration price layover  minutes  \\\n",
              "0       0     SMF     Delta Basic Economy   6h 28m  $904     MSP      388   \n",
              "1       1     SMF    United Basic Economy   6h 42m  $518     ORD      402   \n",
              "2       2     SMF     Delta Basic Economy   6h 47m  $841     ATL      407   \n",
              "3       3     SMF    United Basic Economy   6h 51m  $683     ORD      411   \n",
              "4       4     SMF     Delta Basic Economy   6h 57m  $591     DTW      417   \n",
              "5       5     SMF  American Basic Economy    7h 3m  $648     DFW      423   \n",
              "6       6     SMF     Delta Basic Economy    7h 3m  $841     ATL      423   \n",
              "7       7     SMF    United Basic Economy    7h 4m  $597     ORD      424   \n",
              "8       8     SMF  American Basic Economy   7h 10m  $790     DFW      430   \n",
              "9       9     SMF  American Basic Economy   7h 29m  $763     DFW      449   \n",
              "10     10     SMF     Delta Basic Economy   7h 30m  $648     MSP      450   \n",
              "\n",
              "    legs       plane1       plane2  aircraft_ID_1  aircraft_ID_2  \\\n",
              "0      2   Boeing 737  Airbus A319             61           40.0   \n",
              "1      2   Boeing 737  Airbus A319             61           40.0   \n",
              "2      2   Boeing 737  Airbus A321             61           42.0   \n",
              "3      2   Boeing 737  Airbus A319             61           40.0   \n",
              "4      2   Boeing 737  Airbus A321             61           42.0   \n",
              "5      2  Airbus A321   Boeing 737             42          229.0   \n",
              "6      2   Boeing 737  Airbus A321             61           42.0   \n",
              "7      2  Airbus A319  Airbus A320             40           41.0   \n",
              "8      2   Boeing 737   Boeing 737            229          229.0   \n",
              "9      2  Airbus A321  Airbus A321             42           42.0   \n",
              "10     2   Boeing 737  Airbus A320             61           41.0   \n",
              "\n",
              "    Carbon Leg 1  Carbon Leg 2  Total Carbon  carbon utility  \\\n",
              "0        1034.42        670.11       1704.53      -12.393040   \n",
              "1        1217.25        454.37       1671.62       -7.339093   \n",
              "2        1433.32        350.14       1783.46      -11.676855   \n",
              "3        1217.25        454.37       1671.62       -9.481323   \n",
              "4        1378.34        264.40       1642.74       -8.249635   \n",
              "5         864.07        577.28       1441.35       -8.730043   \n",
              "6        1433.32        350.14       1783.46      -11.676855   \n",
              "7        1250.95        398.36       1649.31       -8.336004   \n",
              "8         687.46        577.28       1264.74      -10.345971   \n",
              "9         864.07        723.87       1587.94      -10.412098   \n",
              "10       1034.42        585.94       1620.36       -8.960825   \n",
              "\n",
              "    no-carbon utility  carbon prob  no-carbon prob  \n",
              "0           -7.557662     0.000504        0.001199  \n",
              "1           -3.530377     0.079011        0.067256  \n",
              "2           -6.900359     0.001032        0.002313  \n",
              "3           -5.251885     0.009275        0.012025  \n",
              "4           -4.292014     0.031786        0.031402  \n",
              "5           -4.886717     0.019661        0.017325  \n",
              "6           -6.900359     0.001032        0.002313  \n",
              "7           -4.354614     0.029156        0.029497  \n",
              "8           -6.368257     0.003907        0.003938  \n",
              "9           -6.086555     0.003657        0.005219  \n",
              "10          -4.886717     0.015609        0.017325  "
            ]
          },
          "execution_count": 24,
          "metadata": {},
          "output_type": "execute_result"
        }
      ],
      "source": [
        "# Melakukan import data (file \"Scored_DCA.csv\") dan menampilkan datanya\n",
        "\n",
        "df_polusi_carbon = pd.read_csv(\"Scored_DCA.csv\")\n",
        "\n",
        "df_polusi_carbon.head(11)"
      ]
    },
    {
      "attachments": {},
      "cell_type": "markdown",
      "metadata": {},
      "source": [
        "**Membuat Salinan File Asli untuk Data yang Akan Diolah**"
      ]
    },
    {
      "cell_type": "code",
      "execution_count": 26,
      "metadata": {
        "id": "9jk5W9Th-P7A"
      },
      "outputs": [],
      "source": [
        "# Memilih kolom (unsur) data yang diinginkan\n",
        "\n",
        "kolom_terpilih = ['minutes', 'aircraft_ID_1', 'aircraft_ID_2', 'Carbon Leg 1', 'Carbon Leg 2', 'Total Carbon']\n",
        "data_terpilih = df_polusi_carbon[kolom_terpilih]\n",
        "\n",
        "# Menyimpan data terpilih ke dalam file baru (data_terpilih.csv)\n",
        "\n",
        "data_terpilih.to_csv('data_terpilih.csv', index=False)"
      ]
    },
    {
      "cell_type": "code",
      "execution_count": 44,
      "metadata": {
        "colab": {
          "base_uri": "https://localhost:8080/"
        },
        "id": "clhhv0uu-7Qo",
        "outputId": "edb44cc8-9807-408c-eb95-7834f411582f"
      },
      "outputs": [
        {
          "data": {
            "text/html": [
              "<div>\n",
              "<style scoped>\n",
              "    .dataframe tbody tr th:only-of-type {\n",
              "        vertical-align: middle;\n",
              "    }\n",
              "\n",
              "    .dataframe tbody tr th {\n",
              "        vertical-align: top;\n",
              "    }\n",
              "\n",
              "    .dataframe thead th {\n",
              "        text-align: right;\n",
              "    }\n",
              "</style>\n",
              "<table border=\"1\" class=\"dataframe\">\n",
              "  <thead>\n",
              "    <tr style=\"text-align: right;\">\n",
              "      <th></th>\n",
              "      <th>minutes</th>\n",
              "      <th>aircraft_ID_1</th>\n",
              "      <th>aircraft_ID_2</th>\n",
              "      <th>Carbon Leg 1</th>\n",
              "      <th>Carbon Leg 2</th>\n",
              "      <th>Total Carbon</th>\n",
              "    </tr>\n",
              "  </thead>\n",
              "  <tbody>\n",
              "    <tr>\n",
              "      <th>0</th>\n",
              "      <td>388</td>\n",
              "      <td>61</td>\n",
              "      <td>40.0</td>\n",
              "      <td>1034.42</td>\n",
              "      <td>670.11</td>\n",
              "      <td>1704.53</td>\n",
              "    </tr>\n",
              "    <tr>\n",
              "      <th>1</th>\n",
              "      <td>402</td>\n",
              "      <td>61</td>\n",
              "      <td>40.0</td>\n",
              "      <td>1217.25</td>\n",
              "      <td>454.37</td>\n",
              "      <td>1671.62</td>\n",
              "    </tr>\n",
              "    <tr>\n",
              "      <th>2</th>\n",
              "      <td>407</td>\n",
              "      <td>61</td>\n",
              "      <td>42.0</td>\n",
              "      <td>1433.32</td>\n",
              "      <td>350.14</td>\n",
              "      <td>1783.46</td>\n",
              "    </tr>\n",
              "    <tr>\n",
              "      <th>3</th>\n",
              "      <td>411</td>\n",
              "      <td>61</td>\n",
              "      <td>40.0</td>\n",
              "      <td>1217.25</td>\n",
              "      <td>454.37</td>\n",
              "      <td>1671.62</td>\n",
              "    </tr>\n",
              "    <tr>\n",
              "      <th>4</th>\n",
              "      <td>417</td>\n",
              "      <td>61</td>\n",
              "      <td>42.0</td>\n",
              "      <td>1378.34</td>\n",
              "      <td>264.40</td>\n",
              "      <td>1642.74</td>\n",
              "    </tr>\n",
              "    <tr>\n",
              "      <th>5</th>\n",
              "      <td>423</td>\n",
              "      <td>42</td>\n",
              "      <td>229.0</td>\n",
              "      <td>864.07</td>\n",
              "      <td>577.28</td>\n",
              "      <td>1441.35</td>\n",
              "    </tr>\n",
              "    <tr>\n",
              "      <th>6</th>\n",
              "      <td>423</td>\n",
              "      <td>61</td>\n",
              "      <td>42.0</td>\n",
              "      <td>1433.32</td>\n",
              "      <td>350.14</td>\n",
              "      <td>1783.46</td>\n",
              "    </tr>\n",
              "    <tr>\n",
              "      <th>7</th>\n",
              "      <td>424</td>\n",
              "      <td>40</td>\n",
              "      <td>41.0</td>\n",
              "      <td>1250.95</td>\n",
              "      <td>398.36</td>\n",
              "      <td>1649.31</td>\n",
              "    </tr>\n",
              "    <tr>\n",
              "      <th>8</th>\n",
              "      <td>430</td>\n",
              "      <td>229</td>\n",
              "      <td>229.0</td>\n",
              "      <td>687.46</td>\n",
              "      <td>577.28</td>\n",
              "      <td>1264.74</td>\n",
              "    </tr>\n",
              "    <tr>\n",
              "      <th>9</th>\n",
              "      <td>449</td>\n",
              "      <td>42</td>\n",
              "      <td>42.0</td>\n",
              "      <td>864.07</td>\n",
              "      <td>723.87</td>\n",
              "      <td>1587.94</td>\n",
              "    </tr>\n",
              "    <tr>\n",
              "      <th>10</th>\n",
              "      <td>450</td>\n",
              "      <td>61</td>\n",
              "      <td>41.0</td>\n",
              "      <td>1034.42</td>\n",
              "      <td>585.94</td>\n",
              "      <td>1620.36</td>\n",
              "    </tr>\n",
              "  </tbody>\n",
              "</table>\n",
              "</div>"
            ],
            "text/plain": [
              "    minutes  aircraft_ID_1  aircraft_ID_2  Carbon Leg 1  Carbon Leg 2  \\\n",
              "0       388             61           40.0       1034.42        670.11   \n",
              "1       402             61           40.0       1217.25        454.37   \n",
              "2       407             61           42.0       1433.32        350.14   \n",
              "3       411             61           40.0       1217.25        454.37   \n",
              "4       417             61           42.0       1378.34        264.40   \n",
              "5       423             42          229.0        864.07        577.28   \n",
              "6       423             61           42.0       1433.32        350.14   \n",
              "7       424             40           41.0       1250.95        398.36   \n",
              "8       430            229          229.0        687.46        577.28   \n",
              "9       449             42           42.0        864.07        723.87   \n",
              "10      450             61           41.0       1034.42        585.94   \n",
              "\n",
              "    Total Carbon  \n",
              "0        1704.53  \n",
              "1        1671.62  \n",
              "2        1783.46  \n",
              "3        1671.62  \n",
              "4        1642.74  \n",
              "5        1441.35  \n",
              "6        1783.46  \n",
              "7        1649.31  \n",
              "8        1264.74  \n",
              "9        1587.94  \n",
              "10       1620.36  "
            ]
          },
          "execution_count": 44,
          "metadata": {},
          "output_type": "execute_result"
        }
      ],
      "source": [
        "# Melakukan import data (file \"data_terpilih.csv\")\n",
        "\n",
        "df_data_terpilih = pd.read_csv(\"data_terpilih.csv\")\n",
        "\n",
        "# Menampilkan data\n",
        "\n",
        "df_data_terpilih.head(11)"
      ]
    },
    {
      "cell_type": "code",
      "execution_count": 45,
      "metadata": {},
      "outputs": [
        {
          "data": {
            "text/plain": [
              "minutes          0\n",
              "aircraft_ID_1    0\n",
              "aircraft_ID_2    2\n",
              "Carbon Leg 1     0\n",
              "Carbon Leg 2     2\n",
              "Total Carbon     0\n",
              "dtype: int64"
            ]
          },
          "execution_count": 45,
          "metadata": {},
          "output_type": "execute_result"
        }
      ],
      "source": [
        "# Memeriksa kolom (unsur) yang mengandung missing value (NaN)\n",
        "\n",
        "df_data_terpilih.isnull().sum()"
      ]
    },
    {
      "cell_type": "code",
      "execution_count": 28,
      "metadata": {
        "colab": {
          "base_uri": "https://localhost:8080/"
        },
        "id": "J_76zoId91PJ",
        "outputId": "c4df7088-56ed-4b18-d110-71d2b627f7fd"
      },
      "outputs": [
        {
          "data": {
            "text/plain": [
              "minutes          0\n",
              "aircraft_ID_1    0\n",
              "aircraft_ID_2    0\n",
              "Carbon Leg 1     0\n",
              "Carbon Leg 2     0\n",
              "Total Carbon     0\n",
              "dtype: int64"
            ]
          },
          "execution_count": 28,
          "metadata": {},
          "output_type": "execute_result"
        }
      ],
      "source": [
        "# Ubah missing value pada setiap kolomnya dengan 0 (nol)\n",
        "\n",
        "df_polusi_carbon_baru = df_data_terpilih.replace(np.nan,0)\n",
        "df_polusi_carbon_baru.isnull().sum()"
      ]
    },
    {
      "cell_type": "code",
      "execution_count": 29,
      "metadata": {
        "colab": {
          "base_uri": "https://localhost:8080/"
        },
        "id": "NboUTY49vvLC",
        "outputId": "eaf8dde4-15ab-405e-ccc5-be213f020a08"
      },
      "outputs": [
        {
          "data": {
            "text/plain": [
              "minutes            int64\n",
              "aircraft_ID_1      int64\n",
              "aircraft_ID_2    float64\n",
              "Carbon Leg 1     float64\n",
              "Carbon Leg 2     float64\n",
              "Total Carbon     float64\n",
              "dtype: object"
            ]
          },
          "execution_count": 29,
          "metadata": {},
          "output_type": "execute_result"
        }
      ],
      "source": [
        "# Melihat type data setiap kolom\n",
        "\n",
        "df_polusi_carbon_baru.dtypes"
      ]
    },
    {
      "cell_type": "code",
      "execution_count": 30,
      "metadata": {
        "colab": {
          "base_uri": "https://localhost:8080/",
          "height": 449
        },
        "id": "MUkCFNwtJOqO",
        "outputId": "9b6df027-36b4-47d1-ed1f-5fddbd8d0734"
      },
      "outputs": [
        {
          "data": {
            "image/png": "[encoded data removed]",
            "text/plain": [
              "<Figure size 640x480 with 1 Axes>"
            ]
          },
          "metadata": {},
          "output_type": "display_data"
        }
      ],
      "source": [
        "# Melakukan ploting data minutes vs Total Carbon pada scatter plot\n",
        "\n",
        "plt.scatter(df_polusi_carbon_baru['minutes'], df_polusi_carbon_baru['Total Carbon'])\n",
        "plt.xlabel(\"minutes\")\n",
        "plt.ylabel(\"Total Carbon\")\n",
        "plt.show()"
      ]
    },
    {
      "cell_type": "code",
      "execution_count": 31,
      "metadata": {
        "colab": {
          "base_uri": "https://localhost:8080/",
          "height": 450
        },
        "id": "W7fULEuVJrZv",
        "outputId": "0fee89c2-36bd-4a7e-983e-9e7e695d882d"
      },
      "outputs": [
        {
          "data": {
            "image/png": "[encoded data removed]",
            "text/plain": [
              "<Figure size 640x480 with 1 Axes>"
            ]
          },
          "metadata": {},
          "output_type": "display_data"
        }
      ],
      "source": [
        "# Melakukan ploting data aircraft_ID_1 vs Total Carbon pada scatter plot\n",
        "\n",
        "plt.scatter(df_polusi_carbon_baru['aircraft_ID_1'], df_polusi_carbon_baru['Total Carbon'])\n",
        "plt.xlabel(\"aircraft_ID_1\")\n",
        "plt.ylabel(\"Total Carbon\")\n",
        "plt.show()"
      ]
    },
    {
      "cell_type": "code",
      "execution_count": 32,
      "metadata": {
        "colab": {
          "base_uri": "https://localhost:8080/",
          "height": 450
        },
        "id": "vatUMCXmJyOe",
        "outputId": "6cd61357-dc2c-480a-e6a0-7f941c64e3fd"
      },
      "outputs": [
        {
          "data": {
            "image/png": "[encoded data removed]",
            "text/plain": [
              "<Figure size 640x480 with 1 Axes>"
            ]
          },
          "metadata": {},
          "output_type": "display_data"
        }
      ],
      "source": [
        "# Melakukan ploting data aircraft_ID_2 vs Total Carbon pada scatter plot\n",
        "\n",
        "plt.scatter(df_polusi_carbon_baru['aircraft_ID_2'], df_polusi_carbon_baru['Total Carbon'])\n",
        "plt.xlabel(\"aircraft_ID_2\")\n",
        "plt.ylabel(\"Total Carbon\")\n",
        "plt.show()"
      ]
    },
    {
      "cell_type": "code",
      "execution_count": 33,
      "metadata": {},
      "outputs": [
        {
          "data": {
            "image/png": "[encoded data removed]",
            "text/plain": [
              "<Figure size 640x480 with 1 Axes>"
            ]
          },
          "metadata": {},
          "output_type": "display_data"
        }
      ],
      "source": [
        "# Melakukan ploting data Carbon Leg 1 vs Total Carbon pada scatter plot\n",
        "\n",
        "plt.scatter(df_polusi_carbon_baru['Carbon Leg 1'], df_polusi_carbon_baru['Total Carbon'])\n",
        "plt.xlabel(\"Carbon Leg 1\")\n",
        "plt.ylabel(\"Total Carbon\")\n",
        "plt.show()"
      ]
    },
    {
      "cell_type": "code",
      "execution_count": 34,
      "metadata": {},
      "outputs": [
        {
          "data": {
            "image/png": "[encoded data removed]",
            "text/plain": [
              "<Figure size 640x480 with 1 Axes>"
            ]
          },
          "metadata": {},
          "output_type": "display_data"
        }
      ],
      "source": [
        "# Melakukan ploting data Carbon Leg 2 vs Total Carbon pada scatter plot\n",
        "\n",
        "plt.scatter(df_polusi_carbon_baru['Carbon Leg 2'], df_polusi_carbon_baru['Total Carbon'])\n",
        "plt.xlabel(\"Carbon Leg 2\")\n",
        "plt.ylabel(\"Total Carbon\")\n",
        "plt.show()"
      ]
    },
    {
      "attachments": {},
      "cell_type": "markdown",
      "metadata": {
        "id": "8OM87sRBtFxq"
      },
      "source": [
        "**Pengaplikasian Machine Learning**\n",
        "\n",
        "1.   Memisahkan variabel independen (x) dan variabel dependen (y)\n",
        "2.   Membagi dataset menjadi data latih (training set) dan data uji (test set)\n",
        "3.   Membagi dataset menjadi data latih (training set) dan data uji (test set)\n",
        "4.   Membuat objek model regresi linear\n",
        "5.   Melatih model dengan data latih\n",
        "6.   Memprediksi jumlah penduduk menggunakan data uji\n",
        "7.   Menghitung mean squared error (MSE) untuk mengevaluasi kinerja model\n",
        "8.   Menampilkan hasil prediksi dan evaluasi model"
      ]
    },
    {
      "cell_type": "code",
      "execution_count": 35,
      "metadata": {
        "id": "bwfF7eJKw0D3"
      },
      "outputs": [],
      "source": [
        "# Extract the x and y values from the DataFrame\n",
        "\n",
        "x = df_polusi_carbon_baru[['minutes','aircraft_ID_1', 'aircraft_ID_2', 'Carbon Leg 1', 'Carbon Leg 2']]\n",
        "y = df_polusi_carbon_baru['Total Carbon']"
      ]
    },
    {
      "cell_type": "code",
      "execution_count": 36,
      "metadata": {
        "id": "7K47lskYGag1"
      },
      "outputs": [],
      "source": [
        "# Membagi dataset menjadi data latih (training set) dan data uji (test set)\n",
        "\n",
        "x_train, x_test, y_train, y_test = train_test_split(x, y, test_size=0.2, random_state=0)"
      ]
    },
    {
      "cell_type": "code",
      "execution_count": 37,
      "metadata": {
        "id": "TGn2QBNGG8aE"
      },
      "outputs": [],
      "source": [
        "# Membuat objek model regresi linear\n",
        "\n",
        "model = LinearRegression()"
      ]
    },
    {
      "cell_type": "code",
      "execution_count": 38,
      "metadata": {
        "colab": {
          "base_uri": "https://localhost:8080/",
          "height": 75
        },
        "id": "hIq5OdxbHEiT",
        "outputId": "9ab88552-3bfb-4cd9-d64d-3fc060fdff7a"
      },
      "outputs": [
        {
          "data": {
            "text/html": [
              "<style>#sk-container-id-2 {color: black;background-color: white;}#sk-container-id-2 pre{padding: 0;}#sk-container-id-2 div.sk-toggleable {background-color: white;}#sk-container-id-2 label.sk-toggleable__label {cursor: pointer;display: block;width: 100%;margin-bottom: 0;padding: 0.3em;box-sizing: border-box;text-align: center;}#sk-container-id-2 label.sk-toggleable__label-arrow:before {content: \"▸\";float: left;margin-right: 0.25em;color: #696969;}#sk-container-id-2 label.sk-toggleable__label-arrow:hover:before {color: black;}#sk-container-id-2 div.sk-estimator:hover label.sk-toggleable__label-arrow:before {color: black;}#sk-container-id-2 div.sk-toggleable__content {max-height: 0;max-width: 0;overflow: hidden;text-align: left;background-color: #f0f8ff;}#sk-container-id-2 div.sk-toggleable__content pre {margin: 0.2em;color: black;border-radius: 0.25em;background-color: #f0f8ff;}#sk-container-id-2 input.sk-toggleable__control:checked~div.sk-toggleable__content {max-height: 200px;max-width: 100%;overflow: auto;}#sk-container-id-2 input.sk-toggleable__control:checked~label.sk-toggleable__label-arrow:before {content: \"▾\";}#sk-container-id-2 div.sk-estimator input.sk-toggleable__control:checked~label.sk-toggleable__label {background-color: #d4ebff;}#sk-container-id-2 div.sk-label input.sk-toggleable__control:checked~label.sk-toggleable__label {background-color: #d4ebff;}#sk-container-id-2 input.sk-hidden--visually {border: 0;clip: rect(1px 1px 1px 1px);clip: rect(1px, 1px, 1px, 1px);height: 1px;margin: -1px;overflow: hidden;padding: 0;position: absolute;width: 1px;}#sk-container-id-2 div.sk-estimator {font-family: monospace;background-color: #f0f8ff;border: 1px dotted black;border-radius: 0.25em;box-sizing: border-box;margin-bottom: 0.5em;}#sk-container-id-2 div.sk-estimator:hover {background-color: #d4ebff;}#sk-container-id-2 div.sk-parallel-item::after {content: \"\";width: 100%;border-bottom: 1px solid gray;flex-grow: 1;}#sk-container-id-2 div.sk-label:hover label.sk-toggleable__label {background-color: #d4ebff;}#sk-container-id-2 div.sk-serial::before {content: \"\";position: absolute;border-left: 1px solid gray;box-sizing: border-box;top: 0;bottom: 0;left: 50%;z-index: 0;}#sk-container-id-2 div.sk-serial {display: flex;flex-direction: column;align-items: center;background-color: white;padding-right: 0.2em;padding-left: 0.2em;position: relative;}#sk-container-id-2 div.sk-item {position: relative;z-index: 1;}#sk-container-id-2 div.sk-parallel {display: flex;align-items: stretch;justify-content: center;background-color: white;position: relative;}#sk-container-id-2 div.sk-item::before, #sk-container-id-2 div.sk-parallel-item::before {content: \"\";position: absolute;border-left: 1px solid gray;box-sizing: border-box;top: 0;bottom: 0;left: 50%;z-index: -1;}#sk-container-id-2 div.sk-parallel-item {display: flex;flex-direction: column;z-index: 1;position: relative;background-color: white;}#sk-container-id-2 div.sk-parallel-item:first-child::after {align-self: flex-end;width: 50%;}#sk-container-id-2 div.sk-parallel-item:last-child::after {align-self: flex-start;width: 50%;}#sk-container-id-2 div.sk-parallel-item:only-child::after {width: 0;}#sk-container-id-2 div.sk-dashed-wrapped {border: 1px dashed gray;margin: 0 0.4em 0.5em 0.4em;box-sizing: border-box;padding-bottom: 0.4em;background-color: white;}#sk-container-id-2 div.sk-label label {font-family: monospace;font-weight: bold;display: inline-block;line-height: 1.2em;}#sk-container-id-2 div.sk-label-container {text-align: center;}#sk-container-id-2 div.sk-container {/* jupyter's `normalize.less` sets `[hidden] { display: none; }` but bootstrap.min.css set `[hidden] { display: none !important; }` so we also need the `!important` here to be able to override the default hidden behavior on the sphinx rendered scikit-learn.org. See: https://github.com/scikit-learn/scikit-learn/issues/21755 */display: inline-block !important;position: relative;}#sk-container-id-2 div.sk-text-repr-fallback {display: none;}</style><div id=\"sk-container-id-2\" class=\"sk-top-container\"><div class=\"sk-text-repr-fallback\"><pre>LinearRegression()</pre><b>In a Jupyter environment, please rerun this cell to show the HTML representation or trust the notebook. <br />On GitHub, the HTML representation is unable to render, please try loading this page with nbviewer.org.</b></div><div class=\"sk-container\" hidden><div class=\"sk-item\"><div class=\"sk-estimator sk-toggleable\"><input class=\"sk-toggleable__control sk-hidden--visually\" id=\"sk-estimator-id-2\" type=\"checkbox\" checked><label for=\"sk-estimator-id-2\" class=\"sk-toggleable__label sk-toggleable__label-arrow\">LinearRegression</label><div class=\"sk-toggleable__content\"><pre>LinearRegression()</pre></div></div></div></div></div>"
            ],
            "text/plain": [
              "LinearRegression()"
            ]
          },
          "execution_count": 38,
          "metadata": {},
          "output_type": "execute_result"
        }
      ],
      "source": [
        "# Melatih model dengan data latih\n",
        "\n",
        "model.fit(x_train, y_train)"
      ]
    },
    {
      "cell_type": "code",
      "execution_count": 39,
      "metadata": {
        "id": "dHIONF7MHZFs"
      },
      "outputs": [],
      "source": [
        "# Memprediksi\n",
        "\n",
        "y_pred = model.predict(x_test)"
      ]
    },
    {
      "cell_type": "code",
      "execution_count": 41,
      "metadata": {
        "colab": {
          "base_uri": "https://localhost:8080/"
        },
        "id": "g5ZZt6gjICEm",
        "outputId": "7d913e32-4561-465c-e76e-4c0f80004ffc"
      },
      "outputs": [
        {
          "name": "stdout",
          "output_type": "stream",
          "text": [
            "Hasil Prediksi: [1374.2  2158.55 1648.3  1791.79 1264.74 1461.46 1655.43 2001.61 1760.58\n",
            " 1649.31 1608.05 1620.36 1866.28 1995.88 1422.18 1783.46 1783.46 1427.19\n",
            " 1661.1  1264.74 1784.58 1190.16 1190.16 1816.8  1341.48 1717.11]\n"
          ]
        }
      ],
      "source": [
        "# Menampilkan hasil prediksi\n",
        "\n",
        "print('Hasil Prediksi:', y_pred)"
      ]
    },
    {
      "cell_type": "code",
      "execution_count": 40,
      "metadata": {
        "id": "ULUS2d17H1J6"
      },
      "outputs": [],
      "source": [
        "# Menghitung mean squared error (MSE) untuk mengevaluasi kinerja model\n",
        "\n"
      ]
    },
    {
      "cell_type": "code",
      "execution_count": 22,
      "metadata": {
        "colab": {
          "base_uri": "https://localhost:8080/"
        },
        "id": "PendTfD6WsOE",
        "outputId": "9053df96-b481-4716-a226-798950bbb6aa"
      },
      "outputs": [
        {
          "name": "stdout",
          "output_type": "stream",
          "text": [
            "R2: 1.0\n"
          ]
        }
      ],
      "source": [
        "# Melakukan evaluasi kinerja model\n",
        "\n",
        "# Menghitung Mean Squared Error (MSE)\n",
        "\n",
        "mse = mean_squared_error(y_test, y_pred)\n",
        "print('Mean Squared Error:', mse)\n",
        "\n",
        "# Menghitung Root Mean Squared Error (RMSE)\n",
        "\n",
        "rmse = math.sqrt(mse)\n",
        "print(\"Root Mean Square Error:\\n\")\n",
        "print(rmse)\n",
        "\n",
        "# Menghitung R2 (R-squared)\n",
        "\n",
        "akar = r2_score(y_pred, y_test)\n",
        "print('R2:', akar)"
      ]
    }
  ],
  "metadata": {
    "colab": {
      "authorship_tag": "ABX9TyOQyiVG/lUnvFzyE46VijV4",
      "include_colab_link": true,
      "provenance": []
    },
    "kernelspec": {
      "display_name": "Python 3",
      "name": "python3"
    },
    "language_info": {
      "codemirror_mode": {
        "name": "ipython",
        "version": 3
      },
      "file_extension": ".py",
      "mimetype": "text/x-python",
      "name": "python",
      "nbconvert_exporter": "python",
      "pygments_lexer": "ipython3",
      "version": "3.11.1"
    }
  },
  "nbformat": 4,
  "nbformat_minor": 0
}
